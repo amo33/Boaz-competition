{
 "cells": [
  {
   "cell_type": "code",
   "execution_count": 2,
   "metadata": {},
   "outputs": [],
   "source": [
    "import pandas as pd\n",
    "\n",
    "# 파일 준비\n",
    "nn=pd.read_csv('NN.csv')\n",
    "lgbm290=pd.read_csv('lgbm29090.csv')\n",
    "xgb = pd.read_csv('xgb28947.csv')\n",
    "\n",
    "def get_rank(x):\n",
    "    return pd.Series(x).rank(pct=True).values"
   ]
  },
  {
   "cell_type": "code",
   "execution_count": 8,
   "metadata": {},
   "outputs": [],
   "source": [
    "# 두 예측값의 가중 평균을 최종 앙상블 결과물로 저장한다\n",
    "pd.DataFrame({'id': nn['id'], \n",
    "              'target': get_rank(nn['target']) * 0.25 + get_rank(lgbm290['target']) * 0.5 + get_rank(xgb['target'])*0.25\n",
    "              }).to_csv(\"FinalSubmission.csv\", index = False)"
   ]
  }
 ],
 "metadata": {
  "kernelspec": {
   "display_name": "Python 3",
   "language": "python",
   "name": "python3"
  },
  "language_info": {
   "codemirror_mode": {
    "name": "ipython",
    "version": 3
   },
   "file_extension": ".py",
   "mimetype": "text/x-python",
   "name": "python",
   "nbconvert_exporter": "python",
   "pygments_lexer": "ipython3",
   "version": "3.7.6"
  }
 },
 "nbformat": 4,
 "nbformat_minor": 2
}
