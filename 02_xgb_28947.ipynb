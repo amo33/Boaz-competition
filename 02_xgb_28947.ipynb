{
 "cells": [
  {
   "cell_type": "code",
   "execution_count": 1,
   "metadata": {
    "colab": {
     "base_uri": "https://localhost:8080/",
     "height": 34
    },
    "colab_type": "code",
    "id": "DAUtTSGwB-1R",
    "outputId": "dc882830-e1ce-45f1-c153-be50ea9258a4",
    "scrolled": true
   },
   "outputs": [
    {
     "name": "stdout",
     "output_type": "stream",
     "text": [
      "Drive already mounted at /content/gdrive; to attempt to forcibly remount, call drive.mount(\"/content/gdrive\", force_remount=True).\n"
     ]
    }
   ],
   "source": [
    "from google.colab import drive\n",
    "drive.mount('/content/gdrive')"
   ]
  },
  {
   "cell_type": "code",
   "execution_count": 2,
   "metadata": {},
   "outputs": [],
   "source": [
    "import numpy as np\n",
    "import pandas as pd\n",
    "import xgboost as xgb\n",
    "from sklearn import metrics\n",
    "import re"
   ]
  },
  {
   "cell_type": "markdown",
   "metadata": {},
   "source": [
    "# Functions 정의"
   ]
  },
  {
   "cell_type": "code",
   "execution_count": 3,
   "metadata": {},
   "outputs": [],
   "source": [
    "# 메모리 사용 최소화 하기위한 함수\n",
    "def change_datatype(df): \n",
    "    for col in list(df.select_dtypes(include=['int']).columns):\n",
    "        if df[col].max() < 2**7 and df[col].min() >= -2**7:\n",
    "            df[col] = df[col].astype(np.int8)\n",
    "        elif df[col].max() < 2**8 and df[col].min() >= 0:\n",
    "            df[col] = df[col].astype(np.uint8)\n",
    "        elif df[col].max() < 2**15 and df[col].min() >= -2**15:\n",
    "            df[col] = df[col].astype(np.int16)\n",
    "        elif df[col].max() < 2**16 and df[col].min() >= 0:\n",
    "            df[col] = df[col].astype(np.uint16)\n",
    "        elif df[col].max() < 2**31 and df[col].min() >= -2**31:\n",
    "            df[col] = df[col].astype(np.int32)\n",
    "        elif df[col].max() < 2**32 and df[col].min() >= 0:\n",
    "            df[col] = df[col].astype(np.uint32)\n",
    "    for col in list(df.select_dtypes(include=['float']).columns):\n",
    "        df[col] = df[col].astype(np.float32)"
   ]
  },
  {
   "cell_type": "code",
   "execution_count": 4,
   "metadata": {},
   "outputs": [],
   "source": [
    "# feature들 보기 편하게 정리하는 함수\n",
    "def short_names(df): \n",
    "    cols = {}\n",
    "    for c in df.columns:\n",
    "        if (not re.match(r'ps_.*',c)):\n",
    "            continue\n",
    "        t = ''\n",
    "        e = ''\n",
    "        if c.startswith('ps_calc'):\n",
    "            t = 'F'\n",
    "        elif c.startswith('ps_car'):\n",
    "            t = 'C'\n",
    "        elif c.startswith('ps_ind'):\n",
    "            t = 'I'\n",
    "        elif c.startswith('ps_reg'):\n",
    "            t = 'R'\n",
    "        \n",
    "        if c.endswith('bin'):\n",
    "            e = 'b'\n",
    "        elif c.endswith('cat'):\n",
    "            e = 'c'\n",
    "        else:\n",
    "            e = 'd'\n",
    "        i = re.search('\\d+',c).group(0)\n",
    "        cols[c] = t+i+e\n",
    "    change_datatype(df)\n",
    "    return df.rename(columns=cols)"
   ]
  },
  {
   "cell_type": "code",
   "execution_count": 5,
   "metadata": {},
   "outputs": [],
   "source": [
    "# 피처 Transform 함수: 원핫인코딩, 결측값 채워넣기\n",
    "def transform(df, oh_columns, na_columns): \n",
    "    # 인코딩\n",
    "    df = pd.get_dummies(df, columns=oh_columns, dummy_na=True, drop_first=False)\n",
    "    # 결측값 처리\n",
    "    for c in na_columns:\n",
    "        if na_columns[c] == 0 or c not in df.columns:\n",
    "            continue\n",
    "        df[c] = df[c].replace(-1, np.NaN)\n",
    "        if na_columns[c] == 1:\n",
    "            df[c] = df[c].fillna(df[c].mean())\n",
    "        elif na_columns[c] == 2:\n",
    "            df[c] = df[c].fillna(df[c].median())\n",
    "        else:\n",
    "            df[c+'m'] = df[c].fillna(df[c].median())\n",
    "            df[c] = df[c].fillna(df[c].mean())\n",
    "    change_datatype(df)\n",
    "    return df[df['_']], df[~df['_']]\n",
    "    "
   ]
  },
  {
   "cell_type": "code",
   "execution_count": 6,
   "metadata": {},
   "outputs": [],
   "source": [
    "# XGB kfold 함수\n",
    "def predictTarget(df, oh_columns, na_columns, kfold):\n",
    "    train, test = transform(df, oh_columns, na_columns)\n",
    "    # XGB 최종 파라미터\n",
    "    params = {'eta' : 0.025,\n",
    "                'gamma' : 9,\n",
    "                'max_depth' : 6,\n",
    "                'reg_lambda' : 1.2,\n",
    "                'colsample_bytree' : 1.0,\n",
    "                'min_child_weight' : 10,\n",
    "                'reg_alpha' : 8,\n",
    "                'scale_pos_weight' : 1.6,\n",
    "                'subsample' : 0.7,\n",
    "                'eval_metric' : 'auc',\n",
    "                'objective' : 'binary:logistic',\n",
    "                'seed' : 2017,\n",
    "                'silent' : False,\n",
    "                'tree_method' : 'gpu_hist'}\n",
    "    trains = np.array_split(train.sample(frac=1, random_state=200), kfold)\n",
    "\n",
    "    col = [c for c in train.columns if not c.endswith('_') and c not in ['id', 'target']]\n",
    "    test['target'] = 0.0\n",
    "    for i in range(kfold):\n",
    "        valid = trains[i] \n",
    "        train = pd.concat(trains[:i]+trains[i+1:])\n",
    "        dtrain = xgb.DMatrix(train[col], train['target'])\n",
    "        dvalid = xgb.DMatrix(valid[col], valid['target'])\n",
    "        watchlist = [(dtrain, 'train'), (dvalid, 'valid')]\n",
    "        model = xgb.train(params, dtrain, 99999, watchlist, verbose_eval=False, \n",
    "                          maximize=True, early_stopping_rounds=300)\n",
    "        test['target'] += model.predict(xgb.DMatrix(test[col]), ntree_limit=model.best_ntree_limit+35)/kfold\n",
    "    return test\n",
    "    "
   ]
  },
  {
   "cell_type": "markdown",
   "metadata": {},
   "source": [
    "# Main"
   ]
  },
  {
   "cell_type": "code",
   "execution_count": 7,
   "metadata": {},
   "outputs": [],
   "source": [
    "# 데이터 불러와서 처리\n",
    "df = short_names(pd.read_csv('/content/gdrive/My Drive/보아즈미니플젝/train.csv'))\n",
    "test = short_names(pd.read_csv('/content/gdrive/My Drive/보아즈미니플젝/test.csv'))\n",
    "test['target'] = -1\n",
    "df = pd.concat([df, test])\n",
    "del test"
   ]
  },
  {
   "cell_type": "code",
   "execution_count": 8,
   "metadata": {},
   "outputs": [],
   "source": [
    "# 'ps_calc*' 만삭제\n",
    "df = df.drop([c for c in df.columns if c.startswith('F')], axis=1)\n",
    "df['_'] = df['target'] != -1\n",
    "# 결측값 columns - 1:평균, 2:중간값, 3:둘다\n",
    "na_columns = {'R03d':2, 'C11d':2, 'C12d':1, 'C14d':1, 'I04c':3}\n",
    "# 원핫인코딩 columns \n",
    "oh_columns = [c for c in df.columns if c.endswith('c') and not c in['C01c','I04c']]"
   ]
  },
  {
   "cell_type": "code",
   "execution_count": 9,
   "metadata": {},
   "outputs": [],
   "source": [
    "# kfold 개수 정의 후 ,모델링\n",
    "kfold = 8\n",
    "df = predictTarget(df, oh_columns, na_columns, kfold)"
   ]
  },
  {
   "cell_type": "code",
   "execution_count": 10,
   "metadata": {},
   "outputs": [],
   "source": [
    "# submission\n",
    "df[['id', 'target']].to_csv('/content/gdrive/My Drive/보아즈미니플젝/sub.csv', index = False)"
   ]
  }
 ],
 "metadata": {
  "accelerator": "GPU",
  "colab": {
   "name": "xgb.ipynb",
   "provenance": []
  },
  "kernelspec": {
   "display_name": "Python 3",
   "language": "python",
   "name": "python3"
  },
  "language_info": {
   "codemirror_mode": {
    "name": "ipython",
    "version": 3
   },
   "file_extension": ".py",
   "mimetype": "text/x-python",
   "name": "python",
   "nbconvert_exporter": "python",
   "pygments_lexer": "ipython3",
   "version": "3.7.6"
  }
 },
 "nbformat": 4,
 "nbformat_minor": 1
}
